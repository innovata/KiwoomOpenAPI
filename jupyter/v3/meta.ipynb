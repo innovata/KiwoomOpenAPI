{
 "cells": [
  {
   "cell_type": "markdown",
   "metadata": {},
   "source": [
    "# 키움증권 OpenAPI 개발가이드 문서 다운로드/읽기 테스트"
   ]
  },
  {
   "cell_type": "code",
   "execution_count": 1,
   "metadata": {},
   "outputs": [],
   "source": [
    "from pprint import PrettyPrinter\n",
    "pp = PrettyPrinter(indent=2)\n",
    "\n",
    "import requests\n",
    "import PyQt5"
   ]
  },
  {
   "cell_type": "code",
   "execution_count": 2,
   "metadata": {},
   "outputs": [
    {
     "data": {
      "text/plain": [
       "<Response [200]>"
      ]
     },
     "execution_count": 2,
     "metadata": {},
     "output_type": "execute_result"
    }
   ],
   "source": [
    "res = requests.get(\"https://raw.githubusercontent.com/innovata/KiwoomOpenAPI/main/Docs/OpenAPI-%EC%98%A4%EB%A5%98%EC%BD%94%EB%93%9C.md\")\n",
    "res "
   ]
  },
  {
   "cell_type": "code",
   "execution_count": 3,
   "metadata": {},
   "outputs": [
    {
     "data": {
      "text/plain": [
       "{'_content': b'\\n# \\xea\\xb0\\x9c\\xeb\\xb0\\x9c \\xea\\xb0\\x80\\xec\\x9d\\xb4\\xeb\\x93\\x9c :: OpenAPI \\xec\\x98\\xa4\\xeb\\xa5\\x98\\xec\\xbd\\x94\\xeb\\x93\\x9c \\n\\n\\nOpenAPI\\xeb\\x8a\\x94 \\xea\\xb0\\x81 \\xed\\x95\\xa8\\xec\\x88\\x98\\xec\\x97\\x90\\xec\\x84\\x9c \\xeb\\xa6\\xac\\xed\\x84\\xb4\\xea\\xb0\\x92\\xec\\x9c\\xbc\\xeb\\xa1\\x9c \\xed\\x95\\xa8\\xec\\x88\\x98\\xec\\x84\\xb1\\xea\\xb3\\xb5\\xec\\x97\\xac\\xeb\\xb6\\x80\\xeb\\xa5\\xbc \\xed\\x8c\\x90\\xeb\\x8b\\xa8\\xed\\x95\\xa0 \\xec\\x88\\x98 \\xec\\x9e\\x88\\xec\\x8a\\xb5\\xeb\\x8b\\x88\\xeb\\x8b\\xa4.  \\n\\xed\\x95\\xa8\\xec\\x88\\x98\\xec\\x97\\x90\\xeb\\x94\\xb0\\xeb\\x9d\\xbc \\xeb\\xa6\\xac\\xed\\x84\\xb4\\xea\\xb0\\x92\\xec\\x9d\\xb4 0 \\xeb\\x98\\x90\\xeb\\x8a\\x94 1\\xec\\x9d\\xbc\\xeb\\x95\\x8c \\xed\\x95\\xa8\\xec\\x88\\x98 \\xec\\xa0\\x95\\xec\\x83\\x81\\xed\\x98\\xb8\\xec\\xb6\\x9c \\xec\\x9d\\xb4\\xeb\\xa9\\xb0, 0\\xeb\\xb3\\xb4\\xeb\\x8b\\xa4 \\xec\\x9e\\x91\\xec\\x9d\\x80 \\xea\\xb0\\x92\\xec\\x9d\\x80 \\xec\\x97\\x90\\xeb\\x9f\\xac\\xeb\\xa5\\xbc \\xeb\\x82\\x98\\xed\\x83\\x80\\xeb\\x83\\x85\\xeb\\x8b\\x88\\xeb\\x8b\\xa4.  \\n\\xec\\xa3\\xbc\\xec\\x9a\\x94 \\xec\\x97\\x90\\xeb\\x9f\\xac\\xec\\xbd\\x94\\xeb\\x93\\x9c\\xeb\\x8a\\x94 -200\\xeb\\xb2\\x88(\\xec\\x8b\\x9c\\xec\\x84\\xb8\\xea\\xb3\\xbc\\xeb\\xb6\\x80\\xed\\x95\\x98), -308\\xeb\\xb2\\x88(\\xec\\xa3\\xbc\\xeb\\xac\\xb8\\xec\\xa0\\x84\\xec\\x86\\xa1 \\xea\\xb3\\xbc\\xeb\\xb6\\x80\\xed\\x95\\x98)\\xec\\x9e\\x85\\xeb\\x8b\\x88\\xeb\\x8b\\xa4.  \\n\\xe2\\x80\\xbb \\xed\\x95\\xa8\\xec\\x88\\x98\\xed\\x98\\xb8\\xec\\xb6\\x9c\\xec\\x9d\\xb4 0 \\xeb\\x98\\x90\\xeb\\x8a\\x94 1\\xeb\\xa1\\x9c \\xec\\xa0\\x95\\xec\\x83\\x81\\xed\\x98\\xb8\\xec\\xb6\\x9c\\xec\\x9d\\xb8 \\xea\\xb2\\xbd\\xec\\x9a\\xb0\\xec\\x97\\x90\\xeb\\x8f\\x84 \\xec\\x84\\x9c\\xeb\\xb2\\x84\\xec\\x97\\x90\\xec\\x84\\x9c \\xec\\x97\\x90\\xeb\\x9f\\xac\\xec\\xb2\\x98\\xeb\\xa6\\xac\\xea\\xb0\\x80 \\xeb\\x90\\xa0 \\xec\\x88\\x98 \\xec\\x9e\\x88\\xec\\x8a\\xb5\\xeb\\x8b\\x88\\xeb\\x8b\\xa4.  \\n\\xec\\x9d\\xb4 \\xea\\xb2\\xbd\\xec\\x9a\\xb0 OrderResultMsg() \\xec\\x9d\\xb4\\xeb\\xb2\\xa4\\xed\\x8a\\xb8\\xec\\x97\\x90\\xec\\x84\\x9c \\xec\\x84\\x9c\\xeb\\xb2\\x84\\xec\\x9d\\x98 \\xec\\x97\\x90\\xeb\\x9f\\xac\\xeb\\xa9\\x94\\xec\\x84\\xb8\\xec\\xa7\\x80\\xeb\\xa5\\xbc \\xed\\x99\\x95\\xec\\x9d\\xb8\\xed\\x95\\xa0 \\xec\\x88\\x98 \\xec\\x9e\\x88\\xec\\x8a\\xb5\\xeb\\x8b\\x88\\xeb\\x8b\\xa4.\\n\\n\\n    1         // \\xec\\xa0\\x95\\xec\\x83\\x81\\xec\\xb2\\x98\\xeb\\xa6\\xac                                                                    \\n    0         // \\xec\\xa0\\x95\\xec\\x83\\x81\\xec\\xb2\\x98\\xeb\\xa6\\xac                                                                    \\n    -10        // \\xec\\x8b\\xa4\\xed\\x8c\\xa8\\n    -11        // \\xec\\xa1\\xb0\\xea\\xb1\\xb4\\xeb\\xb2\\x88\\xed\\x98\\xb8 \\xec\\x97\\x86\\xec\\x8a\\xb4                                                                \\n    -12        // \\xec\\xa1\\xb0\\xea\\xb1\\xb4\\xeb\\xb2\\x88\\xed\\x98\\xb8\\xec\\x99\\x80 \\xec\\xa1\\xb0\\xea\\xb1\\xb4\\xec\\x8b\\x9d \\xeb\\xb6\\x88\\xec\\x9d\\xbc\\xec\\xb9\\x98                                                     \\n    -13        // \\xec\\xa1\\xb0\\xea\\xb1\\xb4\\xea\\xb2\\x80\\xec\\x83\\x89 \\xec\\xa1\\xb0\\xed\\x9a\\x8c\\xec\\x9a\\x94\\xec\\xb2\\xad \\xec\\xb4\\x88\\xea\\xb3\\xbc                                                       \\n    -100        // \\xec\\x82\\xac\\xec\\x9a\\xa9\\xec\\x9e\\x90\\xec\\xa0\\x95\\xeb\\xb3\\xb4\\xea\\xb5\\x90\\xed\\x99\\x98 \\xec\\x8b\\xa4\\xed\\x8c\\xa8                                                           \\n    -101        // \\xec\\x84\\x9c\\xeb\\xb2\\x84 \\xec\\xa0\\x91\\xec\\x86\\x8d \\xec\\x8b\\xa4\\xed\\x8c\\xa8                                                                \\n    -102        // \\xeb\\xb2\\x84\\xec\\xa0\\x84\\xec\\xb2\\x98\\xeb\\xa6\\xac \\xec\\x8b\\xa4\\xed\\x8c\\xa8                                                                 \\n    -103        // \\xea\\xb0\\x9c\\xec\\x9d\\xb8\\xeb\\xb0\\xa9\\xed\\x99\\x94\\xeb\\xb2\\xbd \\xec\\x8b\\xa4\\xed\\x8c\\xa8                                                               \\n    -104        // \\xeb\\xa9\\x94\\xeb\\xaa\\xa8\\xeb\\xa6\\xac \\xeb\\xb3\\xb4\\xed\\x98\\xb8\\xec\\x8b\\xa4\\xed\\x8c\\xa8                                                               \\n    -105        // \\xed\\x95\\xa8\\xec\\x88\\x98\\xec\\x9e\\x85\\xeb\\xa0\\xa5\\xea\\xb0\\x92 \\xec\\x98\\xa4\\xeb\\xa5\\x98                                                               \\n    -106        // \\xed\\x86\\xb5\\xec\\x8b\\xa0\\xec\\x97\\xb0\\xea\\xb2\\xb0 \\xec\\xa2\\x85\\xeb\\xa3\\x8c                                                                 \\n    -107        // \\xeb\\xb3\\xb4\\xec\\x95\\x88\\xeb\\xaa\\xa8\\xeb\\x93\\x88 \\xec\\x98\\xa4\\xeb\\xa5\\x98                                                                 \\n    -108        // \\xea\\xb3\\xb5\\xec\\x9d\\xb8\\xec\\x9d\\xb8\\xec\\xa6\\x9d \\xeb\\xa1\\x9c\\xea\\xb7\\xb8\\xec\\x9d\\xb8 \\xed\\x95\\x84\\xec\\x9a\\x94                                                          \\n\\n    -200        // \\xec\\x8b\\x9c\\xec\\x84\\xb8\\xec\\xa1\\xb0\\xed\\x9a\\x8c \\xea\\xb3\\xbc\\xeb\\xb6\\x80\\xed\\x95\\x98                                                               \\n    -201        // \\xec\\xa0\\x84\\xeb\\xac\\xb8\\xec\\x9e\\x91\\xec\\x84\\xb1 \\xec\\xb4\\x88\\xea\\xb8\\xb0\\xed\\x99\\x94 \\xec\\x8b\\xa4\\xed\\x8c\\xa8.                                                         \\n    -202        // \\xec\\xa0\\x84\\xeb\\xac\\xb8\\xec\\x9e\\x91\\xec\\x84\\xb1 \\xec\\x9e\\x85\\xeb\\xa0\\xa5\\xea\\xb0\\x92 \\xec\\x98\\xa4\\xeb\\xa5\\x98.                                                         \\n    -203        // \\xeb\\x8d\\xb0\\xec\\x9d\\xb4\\xed\\x84\\xb0 \\xec\\x97\\x86\\xec\\x9d\\x8c.                                                                  \\n    -204        // \\xec\\xa1\\xb0\\xed\\x9a\\x8c\\xea\\xb0\\x80\\xeb\\x8a\\xa5\\xed\\x95\\x9c \\xec\\xa2\\x85\\xeb\\xaa\\xa9\\xec\\x88\\x98 \\xec\\xb4\\x88\\xea\\xb3\\xbc. \\xed\\x95\\x9c\\xeb\\xb2\\x88\\xec\\x97\\x90 \\xec\\xa1\\xb0\\xed\\x9a\\x8c \\xea\\xb0\\x80\\xeb\\x8a\\xa5\\xed\\x95\\x9c \\xec\\xa2\\x85\\xeb\\xaa\\xa9\\xea\\xb0\\x9c\\xec\\x88\\x98\\xeb\\x8a\\x94 \\xec\\xb5\\x9c\\xeb\\x8c\\x80 100\\xec\\xa2\\x85\\xeb\\xaa\\xa9.           \\n    -205        // \\xeb\\x8d\\xb0\\xec\\x9d\\xb4\\xed\\x84\\xb0 \\xec\\x88\\x98\\xec\\x8b\\xa0 \\xec\\x8b\\xa4\\xed\\x8c\\xa8                                                              \\n    -206        // \\xec\\xa1\\xb0\\xed\\x9a\\x8c\\xea\\xb0\\x80\\xeb\\x8a\\xa5\\xed\\x95\\x9c FID\\xec\\x88\\x98 \\xec\\xb4\\x88\\xea\\xb3\\xbc. \\xed\\x95\\x9c\\xeb\\xb2\\x88\\xec\\x97\\x90 \\xec\\xa1\\xb0\\xed\\x9a\\x8c \\xea\\xb0\\x80\\xeb\\x8a\\xa5\\xed\\x95\\x9c FID\\xea\\xb0\\x9c\\xec\\x88\\x98\\xeb\\x8a\\x94 \\xec\\xb5\\x9c\\xeb\\x8c\\x80 100\\xea\\xb0\\x9c.               \\n    -207        // \\xec\\x8b\\xa4\\xec\\x8b\\x9c\\xea\\xb0\\x84 \\xed\\x95\\xb4\\xec\\xa0\\x9c\\xec\\x98\\xa4\\xeb\\xa5\\x98                                                               \\n    -209        // \\xec\\x8b\\x9c\\xec\\x84\\xb8\\xec\\xa1\\xb0\\xed\\x9a\\x8c\\xec\\xa0\\x9c\\xed\\x95\\x9c                                                               \\n\\n    -300        // \\xec\\x9e\\x85\\xeb\\xa0\\xa5\\xea\\xb0\\x92 \\xec\\x98\\xa4\\xeb\\xa5\\x98                                                                   \\n    -301        // \\xea\\xb3\\x84\\xec\\xa2\\x8c\\xeb\\xb9\\x84\\xeb\\xb0\\x80\\xeb\\xb2\\x88\\xed\\x98\\xb8 \\xec\\x97\\x86\\xec\\x9d\\x8c.                                                            \\n    -302        // \\xed\\x83\\x80\\xec\\x9d\\xb8\\xea\\xb3\\x84\\xec\\xa2\\x8c \\xec\\x82\\xac\\xec\\x9a\\xa9\\xec\\x98\\xa4\\xeb\\xa5\\x98.                                                            \\n    -303        // \\xec\\xa3\\xbc\\xeb\\xac\\xb8\\xea\\xb0\\x80\\xea\\xb2\\xa9\\xec\\x9d\\xb4 \\xec\\xa3\\xbc\\xeb\\xac\\xb8\\xec\\xb0\\xa9\\xec\\x98\\xa4 \\xea\\xb8\\x88\\xec\\x95\\xa1\\xea\\xb8\\xb0\\xec\\xa4\\x80 \\xec\\xb4\\x88\\xea\\xb3\\xbc.                                                     \\n    -304        // \\xec\\xa3\\xbc\\xeb\\xac\\xb8\\xea\\xb0\\x80\\xea\\xb2\\xa9\\xec\\x9d\\xb4 \\xec\\xa3\\xbc\\xeb\\xac\\xb8\\xec\\xb0\\xa9\\xec\\x98\\xa4 \\xea\\xb8\\x88\\xec\\x95\\xa1\\xea\\xb8\\xb0\\xec\\xa4\\x80 \\xec\\xb4\\x88\\xea\\xb3\\xbc.                                                     \\n    -305        // \\xec\\xa3\\xbc\\xeb\\xac\\xb8\\xec\\x88\\x98\\xeb\\x9f\\x89\\xec\\x9d\\xb4 \\xec\\xb4\\x9d\\xeb\\xb0\\x9c\\xed\\x96\\x89\\xec\\xa3\\xbc\\xec\\x88\\x98\\xec\\x9d\\x98 1% \\xec\\xb4\\x88\\xea\\xb3\\xbc\\xec\\x98\\xa4\\xeb\\xa5\\x98.                                          \\n    -306        // \\xec\\xa3\\xbc\\xeb\\xac\\xb8\\xec\\x88\\x98\\xeb\\x9f\\x89\\xec\\x9d\\x80 \\xec\\xb4\\x9d\\xeb\\xb0\\x9c\\xed\\x96\\x89\\xec\\xa3\\xbc\\xec\\x88\\x98\\xec\\x9d\\x98 3% \\xec\\xb4\\x88\\xea\\xb3\\xbc\\xec\\x98\\xa4\\xeb\\xa5\\x98.                                          \\n    -307        // \\xec\\xa3\\xbc\\xeb\\xac\\xb8\\xec\\xa0\\x84\\xec\\x86\\xa1 \\xec\\x8b\\xa4\\xed\\x8c\\xa8                                                                 \\n    -308        // \\xec\\xa3\\xbc\\xeb\\xac\\xb8\\xec\\xa0\\x84\\xec\\x86\\xa1 \\xea\\xb3\\xbc\\xeb\\xb6\\x80\\xed\\x95\\x98                                                               \\n    -309        // \\xec\\xa3\\xbc\\xeb\\xac\\xb8\\xec\\x88\\x98\\xeb\\x9f\\x89 300\\xea\\xb3\\x84\\xec\\x95\\xbd \\xec\\xb4\\x88\\xea\\xb3\\xbc.                                                        \\n    -310        // \\xec\\xa3\\xbc\\xeb\\xac\\xb8\\xec\\x88\\x98\\xeb\\x9f\\x89 500\\xea\\xb3\\x84\\xec\\x95\\xbd \\xec\\xb4\\x88\\xea\\xb3\\xbc.                                                        \\n    -311        // \\xec\\xa3\\xbc\\xeb\\xac\\xb8\\xec\\xa0\\x84\\xec\\x86\\xa1\\xec\\xa0\\x9c\\xed\\x95\\x9c \\xea\\xb3\\xbc\\xeb\\xb6\\x80\\xed\\x95\\x98\\n    -340        // \\xea\\xb3\\x84\\xec\\xa2\\x8c\\xec\\xa0\\x95\\xeb\\xb3\\xb4 \\xec\\x97\\x86\\xec\\x9d\\x8c.                                                                \\n    -500        // \\xec\\xa2\\x85\\xeb\\xaa\\xa9\\xec\\xbd\\x94\\xeb\\x93\\x9c \\xec\\x97\\x86\\xec\\x9d\\x8c.  \\n',\n",
       " '_content_consumed': True,\n",
       " '_next': None,\n",
       " 'status_code': 200,\n",
       " 'headers': {'Connection': 'keep-alive', 'Content-Length': '1023', 'Cache-Control': 'max-age=300', 'Content-Security-Policy': \"default-src 'none'; style-src 'unsafe-inline'; sandbox\", 'Content-Type': 'text/plain; charset=utf-8', 'ETag': 'W/\"3cb3f49a0cdaffdf2a407cb1a0f76b9f876b5149f5d999b8a40662658def8d1c\"', 'Strict-Transport-Security': 'max-age=31536000', 'X-Content-Type-Options': 'nosniff', 'X-Frame-Options': 'deny', 'X-XSS-Protection': '1; mode=block', 'X-GitHub-Request-Id': 'BAF2:08B2:1076F8:1CBE7D:669E4CD4', 'Content-Encoding': 'gzip', 'Accept-Ranges': 'bytes', 'Date': 'Mon, 22 Jul 2024 12:13:10 GMT', 'Via': '1.1 varnish', 'X-Served-By': 'cache-icn1450051-ICN', 'X-Cache': 'MISS', 'X-Cache-Hits': '0', 'X-Timer': 'S1721650390.570693,VS0,VE483', 'Vary': 'Authorization,Accept-Encoding,Origin', 'Access-Control-Allow-Origin': '*', 'Cross-Origin-Resource-Policy': 'cross-origin', 'X-Fastly-Request-ID': 'b4a37511291f6863429239251247658b353fe19e', 'Expires': 'Mon, 22 Jul 2024 12:18:10 GMT', 'Source-Age': '0'},\n",
       " 'raw': <urllib3.response.HTTPResponse at 0x65e18b0>,\n",
       " 'url': 'https://raw.githubusercontent.com/innovata/KiwoomOpenAPI/main/Docs/OpenAPI-%EC%98%A4%EB%A5%98%EC%BD%94%EB%93%9C.md',\n",
       " 'encoding': 'utf-8',\n",
       " 'history': [],\n",
       " 'reason': 'OK',\n",
       " 'cookies': <RequestsCookieJar[]>,\n",
       " 'elapsed': datetime.timedelta(microseconds=508733),\n",
       " 'request': <PreparedRequest [GET]>,\n",
       " 'connection': <requests.adapters.HTTPAdapter at 0x62309e8>}"
      ]
     },
     "execution_count": 3,
     "metadata": {},
     "output_type": "execute_result"
    }
   ],
   "source": [
    "res.__dict__ "
   ]
  },
  {
   "cell_type": "code",
   "execution_count": 4,
   "metadata": {},
   "outputs": [
    {
     "data": {
      "text/plain": [
       "'\\n# 개발 가이드 :: OpenAPI 오류코드 \\n\\n\\nOpenAPI는 각 함수에서 리턴값으로 함수성공여부를 판단할 수 있습니다.  \\n함수에따라 리턴값이 0 또는 1일때 함수 정상호출 이며, 0보다 작은 값은 에러를 나타냅니다.  \\n주요 에러코드는 -200번(시세과부하), -308번(주문전송 과부하)입니다.  \\n※ 함수호출이 0 또는 1로 정상호출인 경우에도 서버에서 에러처리가 될 수 있습니다.  \\n이 경우 OrderResultMsg() 이벤트에서 서버의 에러메세지를 확인할 수 있습니다.\\n\\n\\n    1         // 정상처리                                                                    \\n    0         // 정상처리                                                                    \\n    -10        // 실패\\n    -11        // 조건번호 없슴                                                                \\n    -12        // 조건번호와 조건식 불일치                                                     \\n    -13        // 조건검색 조회요청 초과                                                       \\n    -100        // 사용자정보교환 실패                                                           \\n    -101        // 서버 접속 실패                                                                \\n    -102        // 버전처리 실패                                                                 \\n    -103        // 개인방화벽 실패                                                               \\n    -104        // 메모리 보호실패                                                               \\n    -105        // 함수입력값 오류                                                               \\n    -106        // 통신연결 종료                                                                 \\n    -107        // 보안모듈 오류                                                                 \\n    -108        // 공인인증 로그인 필요                                                          \\n\\n    -200        // 시세조회 과부하                                                               \\n    -201        // 전문작성 초기화 실패.                                                         \\n    -202        // 전문작성 입력값 오류.                                                         \\n    -203        // 데이터 없음.                                                                  \\n    -204        // 조회가능한 종목수 초과. 한번에 조회 가능한 종목개수는 최대 100종목.           \\n    -205        // 데이터 수신 실패                                                              \\n    -206        // 조회가능한 FID수 초과. 한번에 조회 가능한 FID개수는 최대 100개.               \\n    -207        // 실시간 해제오류                                                               \\n    -209        // 시세조회제한                                                               \\n\\n    -300        // 입력값 오류                                                                   \\n    -301        // 계좌비밀번호 없음.                                                            \\n    -302        // 타인계좌 사용오류.                                                            \\n    -303        // 주문가격이 주문착오 금액기준 초과.                                                     \\n    -304        // 주문가격이 주문착오 금액기준 초과.                                                     \\n    -305        // 주문수량이 총발행주수의 1% 초과오류.                                          \\n    -306        // 주문수량은 총발행주수의 3% 초과오류.                                          \\n    -307        // 주문전송 실패                                                                 \\n    -308        // 주문전송 과부하                                                               \\n    -309        // 주문수량 300계약 초과.                                                        \\n    -310        // 주문수량 500계약 초과.                                                        \\n    -311        // 주문전송제한 과부하\\n    -340        // 계좌정보 없음.                                                                \\n    -500        // 종목코드 없음.  \\n'"
      ]
     },
     "execution_count": 4,
     "metadata": {},
     "output_type": "execute_result"
    }
   ],
   "source": [
    "res.text "
   ]
  },
  {
   "cell_type": "code",
   "execution_count": 5,
   "metadata": {},
   "outputs": [
    {
     "name": "stdout",
     "output_type": "stream",
     "text": [
      "{ '_content': False,\n",
      "  '_content_consumed': False,\n",
      "  '_next': None,\n",
      "  'connection': <requests.adapters.HTTPAdapter object at 0x065E1F70>,\n",
      "  'cookies': <RequestsCookieJar[]>,\n",
      "  'elapsed': datetime.timedelta(microseconds=16313),\n",
      "  'encoding': 'utf-8',\n",
      "  'headers': {'Connection': 'keep-alive', 'Content-Length': '1023', 'Cache-Control': 'max-age=300', 'Content-Security-Policy': \"default-src 'none'; style-src 'unsafe-inline'; sandbox\", 'Content-Type': 'text/plain; charset=utf-8', 'ETag': 'W/\"3cb3f49a0cdaffdf2a407cb1a0f76b9f876b5149f5d999b8a40662658def8d1c\"', 'Strict-Transport-Security': 'max-age=31536000', 'X-Content-Type-Options': 'nosniff', 'X-Frame-Options': 'deny', 'X-XSS-Protection': '1; mode=block', 'X-GitHub-Request-Id': 'BAF2:08B2:1076F8:1CBE7D:669E4CD4', 'Content-Encoding': 'gzip', 'Accept-Ranges': 'bytes', 'Date': 'Mon, 22 Jul 2024 12:13:12 GMT', 'Via': '1.1 varnish', 'X-Served-By': 'cache-icn1450022-ICN', 'X-Cache': 'HIT', 'X-Cache-Hits': '1', 'X-Timer': 'S1721650393.707467,VS0,VE0', 'Vary': 'Authorization,Accept-Encoding,Origin', 'Access-Control-Allow-Origin': '*', 'Cross-Origin-Resource-Policy': 'cross-origin', 'X-Fastly-Request-ID': 'c6a152abb6ff98bd473f040ce85c863a9af64ccd', 'Expires': 'Mon, 22 Jul 2024 12:18:12 GMT', 'Source-Age': '3'},\n",
      "  'history': [],\n",
      "  'raw': <urllib3.response.HTTPResponse object at 0x066173A0>,\n",
      "  'reason': 'OK',\n",
      "  'request': <PreparedRequest [GET]>,\n",
      "  'status_code': 200,\n",
      "  'url': 'https://raw.githubusercontent.com/innovata/KiwoomOpenAPI/main/Docs/OpenAPI-%EC%98%A4%EB%A5%98%EC%BD%94%EB%93%9C.md'}\n",
      "File downloaded: somefile.txt\n"
     ]
    }
   ],
   "source": [
    "import requests\n",
    "\n",
    "def download_file(url, local_filename):\n",
    "    # Send a GET request to the URL\n",
    "    with requests.get(url, stream=True) as response:\n",
    "        pp.pprint(response.__dict__)\n",
    "        response.raise_for_status()  # Check for HTTP request errors\n",
    "        # Open a local file with write-binary mode\n",
    "        with open(local_filename, 'wb') as file:\n",
    "            # Write the content of the response in chunks\n",
    "            for chunk in response.iter_content(chunk_size=8192):\n",
    "                file.write(chunk)\n",
    "    print(f\"File downloaded: {local_filename}\")\n",
    "\n",
    "# Example usage\n",
    "file_url = \"https://raw.githubusercontent.com/innovata/KiwoomOpenAPI/main/Docs/OpenAPI-%EC%98%A4%EB%A5%98%EC%BD%94%EB%93%9C.md\"\n",
    "local_path = 'somefile.txt'\n",
    "download_file(file_url, local_path)\n"
   ]
  },
  {
   "cell_type": "code",
   "execution_count": null,
   "metadata": {},
   "outputs": [],
   "source": []
  },
  {
   "cell_type": "markdown",
   "metadata": {},
   "source": [
    "# meta.py"
   ]
  },
  {
   "cell_type": "markdown",
   "metadata": {},
   "source": [
    "## Setup Environment"
   ]
  },
  {
   "cell_type": "code",
   "execution_count": 6,
   "metadata": {},
   "outputs": [],
   "source": [
    "import sys \n",
    "from pathlib import WindowsPath \n",
    "sys.path.append(str(WindowsPath(\"D:\\pypjts\\KiwoomOpenAPI\\src\")))"
   ]
  },
  {
   "cell_type": "markdown",
   "metadata": {},
   "source": [
    "## Load Module/Package"
   ]
  },
  {
   "cell_type": "code",
   "execution_count": 8,
   "metadata": {},
   "outputs": [],
   "source": [
    "from importlib import reload"
   ]
  },
  {
   "cell_type": "code",
   "execution_count": 48,
   "metadata": {},
   "outputs": [
    {
     "name": "stdout",
     "output_type": "stream",
     "text": [
      "os.getcwd(): d:\\pypjts\\KiwoomOpenAPI\\jupyter\\v3\n",
      "__file__: D:\\pypjts\\KiwoomOpenAPI\\src\\kiwoomapi_v3\\meta\\__init__.py\n"
     ]
    },
    {
     "data": {
      "text/plain": [
       "<module 'kiwoomapi_v3.meta' from 'D:\\\\pypjts\\\\KiwoomOpenAPI\\\\src\\\\kiwoomapi_v3\\\\meta\\\\__init__.py'>"
      ]
     },
     "execution_count": 48,
     "metadata": {},
     "output_type": "execute_result"
    }
   ],
   "source": [
    "from kiwoomapi_v3 import meta  \n",
    "\n",
    "reload(meta.parser)\n",
    "reload(meta)"
   ]
  },
  {
   "cell_type": "code",
   "execution_count": 41,
   "metadata": {},
   "outputs": [
    {
     "name": "stdout",
     "output_type": "stream",
     "text": [
      "File downloaded: D:\\pypjts\\KiwoomOpenAPI\\src\\kiwoomapi_v3\\meta\\mdb\\OpenAPI-오류코드.txt\n"
     ]
    },
    {
     "data": {
      "text/plain": [
       "'D:\\\\pypjts\\\\KiwoomOpenAPI\\\\src\\\\kiwoomapi_v3\\\\meta\\\\mdb\\\\OpenAPI-오류코드.txt'"
      ]
     },
     "execution_count": 41,
     "metadata": {},
     "output_type": "execute_result"
    }
   ],
   "source": [
    "meta.download_meta('OpenAPI-오류코드')"
   ]
  },
  {
   "cell_type": "code",
   "execution_count": 42,
   "metadata": {},
   "outputs": [],
   "source": [
    "meta.convert_to_mdb('OpenAPI-오류코드')"
   ]
  },
  {
   "cell_type": "code",
   "execution_count": 43,
   "metadata": {},
   "outputs": [
    {
     "name": "stdout",
     "output_type": "stream",
     "text": [
      "File downloaded: D:\\pypjts\\KiwoomOpenAPI\\src\\kiwoomapi_v3\\meta\\mdb\\TRList.txt\n"
     ]
    },
    {
     "data": {
      "text/plain": [
       "'D:\\\\pypjts\\\\KiwoomOpenAPI\\\\src\\\\kiwoomapi_v3\\\\meta\\\\mdb\\\\TRList.txt'"
      ]
     },
     "execution_count": 43,
     "metadata": {},
     "output_type": "execute_result"
    }
   ],
   "source": [
    "meta.download_meta('TRList')"
   ]
  },
  {
   "cell_type": "code",
   "execution_count": 44,
   "metadata": {},
   "outputs": [],
   "source": [
    "meta.convert_to_mdb('TRList')"
   ]
  },
  {
   "cell_type": "code",
   "execution_count": 49,
   "metadata": {},
   "outputs": [
    {
     "name": "stdout",
     "output_type": "stream",
     "text": [
      "Initializing...\n",
      "File downloaded: D:\\pypjts\\KiwoomOpenAPI\\src\\kiwoomapi_v3\\meta\\mdb\\OpenAPI-오류코드.txt\n",
      "OpenAPI-오류코드 mdb 구성완료.\n",
      "File downloaded: D:\\pypjts\\KiwoomOpenAPI\\src\\kiwoomapi_v3\\meta\\mdb\\RTList.txt\n",
      "RTList mdb 구성완료.\n",
      "File downloaded: D:\\pypjts\\KiwoomOpenAPI\\src\\kiwoomapi_v3\\meta\\mdb\\TRList.txt\n",
      "TRList mdb 구성완료.\n",
      "File downloaded: D:\\pypjts\\KiwoomOpenAPI\\src\\kiwoomapi_v3\\meta\\mdb\\HogaGubun.txt\n",
      "HogaGubun mdb 구성완료.\n",
      "File downloaded: D:\\pypjts\\KiwoomOpenAPI\\src\\kiwoomapi_v3\\meta\\mdb\\MarketGubun.txt\n",
      "MarketGubun mdb 구성완료.\n",
      "File downloaded: D:\\pypjts\\KiwoomOpenAPI\\src\\kiwoomapi_v3\\meta\\mdb\\MarketOptGubun.txt\n",
      "MarketOptGubun mdb 구성완료.\n",
      "File downloaded: D:\\pypjts\\KiwoomOpenAPI\\src\\kiwoomapi_v3\\meta\\mdb\\OrderType.txt\n",
      "OrderType mdb 구성완료.\n",
      "File downloaded: D:\\pypjts\\KiwoomOpenAPI\\src\\kiwoomapi_v3\\meta\\mdb\\ChejanFID.txt\n",
      "ChejanFID mdb 구성완료.\n",
      "Initialized 완료.\n"
     ]
    }
   ],
   "source": [
    "meta.initialize()"
   ]
  },
  {
   "cell_type": "code",
   "execution_count": null,
   "metadata": {},
   "outputs": [],
   "source": []
  },
  {
   "cell_type": "code",
   "execution_count": null,
   "metadata": {},
   "outputs": [],
   "source": []
  },
  {
   "cell_type": "code",
   "execution_count": null,
   "metadata": {},
   "outputs": [],
   "source": []
  },
  {
   "cell_type": "code",
   "execution_count": null,
   "metadata": {},
   "outputs": [],
   "source": []
  }
 ],
 "metadata": {
  "kernelspec": {
   "display_name": "env_py38_32bit",
   "language": "python",
   "name": "python3"
  },
  "language_info": {
   "codemirror_mode": {
    "name": "ipython",
    "version": 3
   },
   "file_extension": ".py",
   "mimetype": "text/x-python",
   "name": "python",
   "nbconvert_exporter": "python",
   "pygments_lexer": "ipython3",
   "version": "3.8.10"
  }
 },
 "nbformat": 4,
 "nbformat_minor": 2
}
