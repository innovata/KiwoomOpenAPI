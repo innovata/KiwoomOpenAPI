{
 "cells": [
  {
   "cell_type": "code",
   "execution_count": 1,
   "metadata": {},
   "outputs": [],
   "source": [
    "import sys \n",
    "paths = [\n",
    "    \"D:\\pypjts\\KiwoomOpenAPI\\src\"\n",
    "]\n",
    "for p in paths: sys.path.append(p)\n"
   ]
  },
  {
   "cell_type": "code",
   "execution_count": 3,
   "metadata": {},
   "outputs": [
    {
     "data": {
      "text/plain": [
       "['',\n",
       " 'C:\\\\Users\\\\innovata\\\\AppData\\\\Local\\\\Programs\\\\Python\\\\Python38-32',\n",
       " 'C:\\\\Users\\\\innovata\\\\AppData\\\\Local\\\\Programs\\\\Python\\\\Python38-32\\\\DLLs',\n",
       " 'C:\\\\Users\\\\innovata\\\\AppData\\\\Local\\\\Programs\\\\Python\\\\Python38-32\\\\lib',\n",
       " 'C:\\\\Users\\\\innovata\\\\AppData\\\\Local\\\\Programs\\\\Python\\\\Python38-32\\\\python38.zip',\n",
       " 'D:\\\\pypjts\\\\KiwoomOpenAPI\\\\src',\n",
       " 'd:\\\\pypjts\\\\KiwoomOpenAPI\\\\.env32',\n",
       " 'd:\\\\pypjts\\\\KiwoomOpenAPI\\\\.env32\\\\lib\\\\site-packages',\n",
       " 'd:\\\\pypjts\\\\KiwoomOpenAPI\\\\.env32\\\\lib\\\\site-packages\\\\Pythonwin',\n",
       " 'd:\\\\pypjts\\\\KiwoomOpenAPI\\\\.env32\\\\lib\\\\site-packages\\\\win32',\n",
       " 'd:\\\\pypjts\\\\KiwoomOpenAPI\\\\.env32\\\\lib\\\\site-packages\\\\win32\\\\lib']"
      ]
     },
     "execution_count": 3,
     "metadata": {},
     "output_type": "execute_result"
    }
   ],
   "source": [
    "sorted(sys.path)"
   ]
  },
  {
   "cell_type": "markdown",
   "metadata": {},
   "source": [
    "# 모듈/패키지 로딩"
   ]
  },
  {
   "cell_type": "code",
   "execution_count": 16,
   "metadata": {},
   "outputs": [
    {
     "data": {
      "text/plain": [
       "<module 'kiwoomapi_v3.meta' from 'D:\\\\pypjts\\\\KiwoomOpenAPI\\\\src\\\\kiwoomapi_v3\\\\meta.py'>"
      ]
     },
     "execution_count": 16,
     "metadata": {},
     "output_type": "execute_result"
    }
   ],
   "source": [
    "from importlib import reload \n",
    "\n",
    "from kiwoomapi_v3 import meta \n",
    "reload(meta)"
   ]
  },
  {
   "cell_type": "code",
   "execution_count": null,
   "metadata": {},
   "outputs": [],
   "source": []
  },
  {
   "cell_type": "code",
   "execution_count": 10,
   "metadata": {},
   "outputs": [
    {
     "name": "stdout",
     "output_type": "stream",
     "text": [
      "os.getcwd(): d:\\pypjts\\KiwoomOpenAPI\\jupyter\n",
      "__file__: D:\\pypjts\\KiwoomOpenAPI\\src\\kiwoomapi_v3\\meta.py\n"
     ]
    }
   ],
   "source": [
    "meta.initialize()"
   ]
  },
  {
   "cell_type": "code",
   "execution_count": 15,
   "metadata": {},
   "outputs": [
    {
     "data": {
      "text/plain": [
       "'D:\\\\pypjts\\\\KiwoomOpenAPI\\\\src\\\\kiwoomapi_v3\\\\temp'"
      ]
     },
     "execution_count": 15,
     "metadata": {},
     "output_type": "execute_result"
    }
   ],
   "source": [
    "meta.TEMP_DIR()"
   ]
  },
  {
   "cell_type": "code",
   "execution_count": 17,
   "metadata": {},
   "outputs": [
    {
     "name": "stdout",
     "output_type": "stream",
     "text": [
      "File downloaded: D:\\pypjts\\KiwoomOpenAPI\\src\\kiwoomapi_v3\\temp\\OpenAPI-오류코드.txt\n"
     ]
    }
   ],
   "source": [
    "meta.download_meta('OpenAPI-오류코드')"
   ]
  },
  {
   "cell_type": "code",
   "execution_count": null,
   "metadata": {},
   "outputs": [],
   "source": []
  },
  {
   "cell_type": "code",
   "execution_count": null,
   "metadata": {},
   "outputs": [],
   "source": []
  }
 ],
 "metadata": {
  "kernelspec": {
   "display_name": ".env32",
   "language": "python",
   "name": "python3"
  },
  "language_info": {
   "codemirror_mode": {
    "name": "ipython",
    "version": 3
   },
   "file_extension": ".py",
   "mimetype": "text/x-python",
   "name": "python",
   "nbconvert_exporter": "python",
   "pygments_lexer": "ipython3",
   "version": "3.8.10"
  }
 },
 "nbformat": 4,
 "nbformat_minor": 2
}
