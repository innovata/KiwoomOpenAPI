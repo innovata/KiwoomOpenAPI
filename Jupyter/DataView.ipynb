{
 "cells": [
  {
   "cell_type": "code",
   "execution_count": 4,
   "metadata": {},
   "outputs": [],
   "source": [
    "import os \n",
    "import sys \n",
    "sys.path.append('C:\\pypjts\\KiwoomOpenAPI\\src')\n",
    "from importlib import reload"
   ]
  },
  {
   "cell_type": "code",
   "execution_count": 3,
   "metadata": {},
   "outputs": [
    {
     "name": "stderr",
     "output_type": "stream",
     "text": [
      "2023-07-31 10:23:10,532 | INFO | [83648/MainProcess][110308/MainThread] | idebug.set_viewEnvType[160] | <ipylib.idebug.Debugger object at 0x074FE0A0> | 1 (1: print | 2: logger | 3: jupyter)\n"
     ]
    },
    {
     "name": "stdout",
     "output_type": "stream",
     "text": [
      "LogLevel: 10 (DEBUG) c:\\pypjts\\KiwoomOpenAPI\\venv\\lib\\site-packages\\ipylib\\idebug.py\n"
     ]
    }
   ],
   "source": [
    "from kiwoomapi import mdb "
   ]
  },
  {
   "cell_type": "code",
   "execution_count": 70,
   "metadata": {},
   "outputs": [
    {
     "name": "stderr",
     "output_type": "stream",
     "text": [
      "2023-07-31 13:06:08,612 | INFO | [83648/MainProcess][110308/MainThread] | ifile.read_json[136] | <class 'ipylib.ifile.FileReader'> | FilePath--> C:\\pypjts\\KiwoomOpenAPI\\src\\kiwoomapi\\metadata\\MarketGubun.json\n",
      "2023-07-31 13:06:08,615 | INFO | [83648/MainProcess][110308/MainThread] | ifile.read_json[136] | <class 'ipylib.ifile.FileReader'> | FilePath--> C:\\pypjts\\KiwoomOpenAPI\\src\\kiwoomapi\\metadata\\MarketGubun.json\n"
     ]
    },
    {
     "name": "stdout",
     "output_type": "stream",
     "text": [
      "C:\\pypjts\\KiwoomOpenAPI\\src\\kiwoomapi\\metadata\\MarketGubun.json\n",
      "C:\\pypjts\\KiwoomOpenAPI\\src\\kiwoomapi\\metadata\\MarketGubun.json\n"
     ]
    }
   ],
   "source": [
    "reload(mdb)\n",
    "m = mdb.MemoryDB('MarketGubun')\n",
    "m._create_model()\n",
    "# m.select_all()\n",
    "#.select({'name':'코스닥'})"
   ]
  },
  {
   "cell_type": "code",
   "execution_count": 76,
   "metadata": {},
   "outputs": [
    {
     "name": "stderr",
     "output_type": "stream",
     "text": [
      "2023-07-31 13:48:26,717 | INFO | [83648/MainProcess][110308/MainThread] | ifile.read_json[136] | <class 'ipylib.ifile.FileReader'> | FilePath--> C:\\pypjts\\KiwoomOpenAPI\\src\\kiwoomapi\\metadata\\MarketGubun.json\n",
      "2023-07-31 13:48:26,723 | INFO | [83648/MainProcess][110308/MainThread] | ifile.read_json[136] | <class 'ipylib.ifile.FileReader'> | FilePath--> C:\\pypjts\\KiwoomOpenAPI\\src\\kiwoomapi\\metadata\\MarketGubun.json\n",
      "2023-07-31 13:48:26,766 | INFO | [83648/MainProcess][110308/MainThread] | ifile.read_json[136] | <class 'ipylib.ifile.FileReader'> | FilePath--> C:\\pypjts\\KiwoomOpenAPI\\src\\kiwoomapi\\metadata\\HogaGubun.json\n",
      "2023-07-31 13:48:26,769 | INFO | [83648/MainProcess][110308/MainThread] | ifile.read_json[136] | <class 'ipylib.ifile.FileReader'> | FilePath--> C:\\pypjts\\KiwoomOpenAPI\\src\\kiwoomapi\\metadata\\HogaGubun.json\n",
      "2023-07-31 13:48:26,813 | INFO | [83648/MainProcess][110308/MainThread] | ifile.read_json[136] | <class 'ipylib.ifile.FileReader'> | FilePath--> C:\\pypjts\\KiwoomOpenAPI\\src\\kiwoomapi\\metadata\\MarketOptGubun.json\n",
      "2023-07-31 13:48:26,817 | INFO | [83648/MainProcess][110308/MainThread] | ifile.read_json[136] | <class 'ipylib.ifile.FileReader'> | FilePath--> C:\\pypjts\\KiwoomOpenAPI\\src\\kiwoomapi\\metadata\\MarketOptGubun.json\n",
      "2023-07-31 13:48:26,861 | INFO | [83648/MainProcess][110308/MainThread] | ifile.read_json[136] | <class 'ipylib.ifile.FileReader'> | FilePath--> C:\\pypjts\\KiwoomOpenAPI\\src\\kiwoomapi\\metadata\\OrderType.json\n",
      "2023-07-31 13:48:26,865 | INFO | [83648/MainProcess][110308/MainThread] | ifile.read_json[136] | <class 'ipylib.ifile.FileReader'> | FilePath--> C:\\pypjts\\KiwoomOpenAPI\\src\\kiwoomapi\\metadata\\OrderType.json\n"
     ]
    },
    {
     "name": "stdout",
     "output_type": "stream",
     "text": [
      "C:\\pypjts\\KiwoomOpenAPI\\src\\kiwoomapi\\metadata\\MarketGubun.json\n",
      "C:\\pypjts\\KiwoomOpenAPI\\src\\kiwoomapi\\metadata\\MarketGubun.json\n",
      "C:\\pypjts\\KiwoomOpenAPI\\src\\kiwoomapi\\metadata\\HogaGubun.json\n",
      "C:\\pypjts\\KiwoomOpenAPI\\src\\kiwoomapi\\metadata\\HogaGubun.json\n",
      "C:\\pypjts\\KiwoomOpenAPI\\src\\kiwoomapi\\metadata\\MarketOptGubun.json\n",
      "C:\\pypjts\\KiwoomOpenAPI\\src\\kiwoomapi\\metadata\\MarketOptGubun.json\n",
      "C:\\pypjts\\KiwoomOpenAPI\\src\\kiwoomapi\\metadata\\OrderType.json\n",
      "C:\\pypjts\\KiwoomOpenAPI\\src\\kiwoomapi\\metadata\\OrderType.json\n",
      "C:\\pypjts\\KiwoomOpenAPI\\src\\kiwoomapi\\metadata\\CallPriceUnit.json\n"
     ]
    },
    {
     "name": "stderr",
     "output_type": "stream",
     "text": [
      "2023-07-31 13:48:26,910 | INFO | [83648/MainProcess][110308/MainThread] | ifile.read_json[136] | <class 'ipylib.ifile.FileReader'> | FilePath--> C:\\pypjts\\KiwoomOpenAPI\\src\\kiwoomapi\\metadata\\CallPriceUnit.json\n",
      "2023-07-31 13:48:26,913 | INFO | [83648/MainProcess][110308/MainThread] | ifile.read_json[136] | <class 'ipylib.ifile.FileReader'> | FilePath--> C:\\pypjts\\KiwoomOpenAPI\\src\\kiwoomapi\\metadata\\CallPriceUnit.json\n"
     ]
    },
    {
     "name": "stdout",
     "output_type": "stream",
     "text": [
      "C:\\pypjts\\KiwoomOpenAPI\\src\\kiwoomapi\\metadata\\CallPriceUnit.json\n"
     ]
    }
   ],
   "source": [
    "modelNames = [\n",
    "    'MarketGubun','HogaGubun','MarketOptGubun','OrderType',\n",
    "    'CallPriceUnit',\n",
    "]\n",
    "for modelName in modelNames:\n",
    "    m = mdb.MemoryDB(modelName)\n",
    "    m._create_model()"
   ]
  },
  {
   "cell_type": "code",
   "execution_count": 72,
   "metadata": {},
   "outputs": [
    {
     "name": "stderr",
     "output_type": "stream",
     "text": [
      "2023-07-31 13:06:21,510 | INFO | [83648/MainProcess][110308/MainThread] | ifile.read_json[136] | <class 'ipylib.ifile.FileReader'> | FilePath--> C:\\pypjts\\KiwoomOpenAPI\\src\\kiwoomapi\\metadata\\MarketGubun.json\n"
     ]
    },
    {
     "name": "stdout",
     "output_type": "stream",
     "text": [
      "C:\\pypjts\\KiwoomOpenAPI\\src\\kiwoomapi\\metadata\\MarketGubun.json\n"
     ]
    },
    {
     "data": {
      "text/html": [
       "<div>\n",
       "<style scoped>\n",
       "    .dataframe tbody tr th:only-of-type {\n",
       "        vertical-align: middle;\n",
       "    }\n",
       "\n",
       "    .dataframe tbody tr th {\n",
       "        vertical-align: top;\n",
       "    }\n",
       "\n",
       "    .dataframe thead th {\n",
       "        text-align: right;\n",
       "    }\n",
       "</style>\n",
       "<table border=\"1\" class=\"dataframe\">\n",
       "  <thead>\n",
       "    <tr style=\"text-align: right;\">\n",
       "      <th></th>\n",
       "      <th>code</th>\n",
       "      <th>name</th>\n",
       "    </tr>\n",
       "  </thead>\n",
       "  <tbody>\n",
       "    <tr>\n",
       "      <th>0</th>\n",
       "      <td>0</td>\n",
       "      <td>코스피</td>\n",
       "    </tr>\n",
       "    <tr>\n",
       "      <th>1</th>\n",
       "      <td>10</td>\n",
       "      <td>코스닥</td>\n",
       "    </tr>\n",
       "    <tr>\n",
       "      <th>2</th>\n",
       "      <td>3</td>\n",
       "      <td>ELW</td>\n",
       "    </tr>\n",
       "    <tr>\n",
       "      <th>3</th>\n",
       "      <td>8</td>\n",
       "      <td>ETF</td>\n",
       "    </tr>\n",
       "    <tr>\n",
       "      <th>4</th>\n",
       "      <td>50</td>\n",
       "      <td>KONEX</td>\n",
       "    </tr>\n",
       "    <tr>\n",
       "      <th>5</th>\n",
       "      <td>4</td>\n",
       "      <td>뮤추얼펀드</td>\n",
       "    </tr>\n",
       "    <tr>\n",
       "      <th>6</th>\n",
       "      <td>5</td>\n",
       "      <td>신주인수권</td>\n",
       "    </tr>\n",
       "    <tr>\n",
       "      <th>7</th>\n",
       "      <td>6</td>\n",
       "      <td>리츠</td>\n",
       "    </tr>\n",
       "    <tr>\n",
       "      <th>8</th>\n",
       "      <td>9</td>\n",
       "      <td>하이얼펀드</td>\n",
       "    </tr>\n",
       "    <tr>\n",
       "      <th>9</th>\n",
       "      <td>30</td>\n",
       "      <td>K</td>\n",
       "    </tr>\n",
       "  </tbody>\n",
       "</table>\n",
       "</div>"
      ],
      "text/plain": [
       "  code   name\n",
       "0    0    코스피\n",
       "1   10    코스닥\n",
       "2    3    ELW\n",
       "3    8    ETF\n",
       "4   50  KONEX\n",
       "5    4  뮤추얼펀드\n",
       "6    5  신주인수권\n",
       "7    6     리츠\n",
       "8    9  하이얼펀드\n",
       "9   30      K"
      ]
     },
     "execution_count": 72,
     "metadata": {},
     "output_type": "execute_result"
    }
   ],
   "source": [
    "reload(mdb)\n",
    "mdb.MemoryDB('MarketGubun').view()"
   ]
  },
  {
   "cell_type": "code",
   "execution_count": 73,
   "metadata": {},
   "outputs": [
    {
     "name": "stderr",
     "output_type": "stream",
     "text": [
      "2023-07-31 13:06:22,270 | INFO | [83648/MainProcess][110308/MainThread] | ifile.read_json[136] | <class 'ipylib.ifile.FileReader'> | FilePath--> C:\\pypjts\\KiwoomOpenAPI\\src\\kiwoomapi\\metadata\\HogaGubun.json\n"
     ]
    },
    {
     "name": "stdout",
     "output_type": "stream",
     "text": [
      "C:\\pypjts\\KiwoomOpenAPI\\src\\kiwoomapi\\metadata\\HogaGubun.json\n"
     ]
    },
    {
     "data": {
      "text/html": [
       "<div>\n",
       "<style scoped>\n",
       "    .dataframe tbody tr th:only-of-type {\n",
       "        vertical-align: middle;\n",
       "    }\n",
       "\n",
       "    .dataframe tbody tr th {\n",
       "        vertical-align: top;\n",
       "    }\n",
       "\n",
       "    .dataframe thead th {\n",
       "        text-align: right;\n",
       "    }\n",
       "</style>\n",
       "<table border=\"1\" class=\"dataframe\">\n",
       "  <thead>\n",
       "    <tr style=\"text-align: right;\">\n",
       "      <th></th>\n",
       "      <th>code</th>\n",
       "      <th>name</th>\n",
       "      <th>real_active</th>\n",
       "      <th>test_active</th>\n",
       "    </tr>\n",
       "  </thead>\n",
       "  <tbody>\n",
       "    <tr>\n",
       "      <th>0</th>\n",
       "      <td>00</td>\n",
       "      <td>지정가</td>\n",
       "      <td>1</td>\n",
       "      <td>1</td>\n",
       "    </tr>\n",
       "    <tr>\n",
       "      <th>1</th>\n",
       "      <td>03</td>\n",
       "      <td>시장가</td>\n",
       "      <td>1</td>\n",
       "      <td>1</td>\n",
       "    </tr>\n",
       "    <tr>\n",
       "      <th>2</th>\n",
       "      <td>05</td>\n",
       "      <td>조건부지정가</td>\n",
       "      <td>1</td>\n",
       "      <td>1</td>\n",
       "    </tr>\n",
       "    <tr>\n",
       "      <th>3</th>\n",
       "      <td>06</td>\n",
       "      <td>최유리지정가</td>\n",
       "      <td>1</td>\n",
       "      <td>1</td>\n",
       "    </tr>\n",
       "    <tr>\n",
       "      <th>4</th>\n",
       "      <td>07</td>\n",
       "      <td>최우선지정가</td>\n",
       "      <td>1</td>\n",
       "      <td>1</td>\n",
       "    </tr>\n",
       "    <tr>\n",
       "      <th>5</th>\n",
       "      <td>10</td>\n",
       "      <td>지정가IOC</td>\n",
       "      <td>1</td>\n",
       "      <td>1</td>\n",
       "    </tr>\n",
       "    <tr>\n",
       "      <th>6</th>\n",
       "      <td>13</td>\n",
       "      <td>시장가IOC</td>\n",
       "      <td>1</td>\n",
       "      <td>1</td>\n",
       "    </tr>\n",
       "    <tr>\n",
       "      <th>7</th>\n",
       "      <td>16</td>\n",
       "      <td>최유리IOC</td>\n",
       "      <td>1</td>\n",
       "      <td>0</td>\n",
       "    </tr>\n",
       "    <tr>\n",
       "      <th>8</th>\n",
       "      <td>20</td>\n",
       "      <td>지정가FOK</td>\n",
       "      <td>1</td>\n",
       "      <td>1</td>\n",
       "    </tr>\n",
       "    <tr>\n",
       "      <th>9</th>\n",
       "      <td>23</td>\n",
       "      <td>시장가FOK</td>\n",
       "      <td>1</td>\n",
       "      <td>1</td>\n",
       "    </tr>\n",
       "    <tr>\n",
       "      <th>10</th>\n",
       "      <td>26</td>\n",
       "      <td>최유리FOK</td>\n",
       "      <td>1</td>\n",
       "      <td>0</td>\n",
       "    </tr>\n",
       "    <tr>\n",
       "      <th>11</th>\n",
       "      <td>61</td>\n",
       "      <td>장전시간외종가</td>\n",
       "      <td>1</td>\n",
       "      <td>0</td>\n",
       "    </tr>\n",
       "    <tr>\n",
       "      <th>12</th>\n",
       "      <td>62</td>\n",
       "      <td>시간외단일가매매</td>\n",
       "      <td>1</td>\n",
       "      <td>0</td>\n",
       "    </tr>\n",
       "    <tr>\n",
       "      <th>13</th>\n",
       "      <td>81</td>\n",
       "      <td>장후시간외종가</td>\n",
       "      <td>1</td>\n",
       "      <td>0</td>\n",
       "    </tr>\n",
       "  </tbody>\n",
       "</table>\n",
       "</div>"
      ],
      "text/plain": [
       "   code      name  real_active  test_active\n",
       "0    00       지정가            1            1\n",
       "1    03       시장가            1            1\n",
       "2    05    조건부지정가            1            1\n",
       "3    06    최유리지정가            1            1\n",
       "4    07    최우선지정가            1            1\n",
       "5    10    지정가IOC            1            1\n",
       "6    13    시장가IOC            1            1\n",
       "7    16    최유리IOC            1            0\n",
       "8    20    지정가FOK            1            1\n",
       "9    23    시장가FOK            1            1\n",
       "10   26    최유리FOK            1            0\n",
       "11   61   장전시간외종가            1            0\n",
       "12   62  시간외단일가매매            1            0\n",
       "13   81   장후시간외종가            1            0"
      ]
     },
     "execution_count": 73,
     "metadata": {},
     "output_type": "execute_result"
    }
   ],
   "source": [
    "mdb.MemoryDB('HogaGubun').view()"
   ]
  },
  {
   "cell_type": "code",
   "execution_count": 74,
   "metadata": {},
   "outputs": [
    {
     "name": "stderr",
     "output_type": "stream",
     "text": [
      "2023-07-31 13:06:22,930 | INFO | [83648/MainProcess][110308/MainThread] | ifile.read_json[136] | <class 'ipylib.ifile.FileReader'> | FilePath--> C:\\pypjts\\KiwoomOpenAPI\\src\\kiwoomapi\\metadata\\MarketOptGubun.json\n"
     ]
    },
    {
     "name": "stdout",
     "output_type": "stream",
     "text": [
      "C:\\pypjts\\KiwoomOpenAPI\\src\\kiwoomapi\\metadata\\MarketOptGubun.json\n"
     ]
    },
    {
     "data": {
      "text/html": [
       "<div>\n",
       "<style scoped>\n",
       "    .dataframe tbody tr th:only-of-type {\n",
       "        vertical-align: middle;\n",
       "    }\n",
       "\n",
       "    .dataframe tbody tr th {\n",
       "        vertical-align: top;\n",
       "    }\n",
       "\n",
       "    .dataframe thead th {\n",
       "        text-align: right;\n",
       "    }\n",
       "</style>\n",
       "<table border=\"1\" class=\"dataframe\">\n",
       "  <thead>\n",
       "    <tr style=\"text-align: right;\">\n",
       "      <th></th>\n",
       "      <th>code</th>\n",
       "      <th>name</th>\n",
       "    </tr>\n",
       "  </thead>\n",
       "  <tbody>\n",
       "    <tr>\n",
       "      <th>0</th>\n",
       "      <td>0</td>\n",
       "      <td>장시작전</td>\n",
       "    </tr>\n",
       "    <tr>\n",
       "      <th>1</th>\n",
       "      <td>2</td>\n",
       "      <td>장마감전 동시호가</td>\n",
       "    </tr>\n",
       "    <tr>\n",
       "      <th>2</th>\n",
       "      <td>3</td>\n",
       "      <td>장시작</td>\n",
       "    </tr>\n",
       "    <tr>\n",
       "      <th>3</th>\n",
       "      <td>4</td>\n",
       "      <td>장종료 예상지수종료</td>\n",
       "    </tr>\n",
       "    <tr>\n",
       "      <th>4</th>\n",
       "      <td>8</td>\n",
       "      <td>장마감</td>\n",
       "    </tr>\n",
       "    <tr>\n",
       "      <th>5</th>\n",
       "      <td>9</td>\n",
       "      <td>장종료</td>\n",
       "    </tr>\n",
       "    <tr>\n",
       "      <th>6</th>\n",
       "      <td>a</td>\n",
       "      <td>시간외 종가매매 시작</td>\n",
       "    </tr>\n",
       "    <tr>\n",
       "      <th>7</th>\n",
       "      <td>b</td>\n",
       "      <td>시간외 종가매매 종료</td>\n",
       "    </tr>\n",
       "    <tr>\n",
       "      <th>8</th>\n",
       "      <td>c</td>\n",
       "      <td>시간외 단일가 매매시작</td>\n",
       "    </tr>\n",
       "    <tr>\n",
       "      <th>9</th>\n",
       "      <td>d</td>\n",
       "      <td>시간외 단일가 매매종료</td>\n",
       "    </tr>\n",
       "    <tr>\n",
       "      <th>10</th>\n",
       "      <td>s</td>\n",
       "      <td>선옵 장마감전 동시호가 시작</td>\n",
       "    </tr>\n",
       "    <tr>\n",
       "      <th>11</th>\n",
       "      <td>e</td>\n",
       "      <td>선옵 장마감전 동시호가 종료</td>\n",
       "    </tr>\n",
       "  </tbody>\n",
       "</table>\n",
       "</div>"
      ],
      "text/plain": [
       "   code             name\n",
       "0     0             장시작전\n",
       "1     2        장마감전 동시호가\n",
       "2     3              장시작\n",
       "3     4       장종료 예상지수종료\n",
       "4     8              장마감\n",
       "5     9             장종료 \n",
       "6     a      시간외 종가매매 시작\n",
       "7     b      시간외 종가매매 종료\n",
       "8     c     시간외 단일가 매매시작\n",
       "9     d     시간외 단일가 매매종료\n",
       "10    s  선옵 장마감전 동시호가 시작\n",
       "11    e  선옵 장마감전 동시호가 종료"
      ]
     },
     "execution_count": 74,
     "metadata": {},
     "output_type": "execute_result"
    }
   ],
   "source": [
    "mdb.MemoryDB('MarketOptGubun').view()"
   ]
  },
  {
   "cell_type": "code",
   "execution_count": 75,
   "metadata": {},
   "outputs": [
    {
     "name": "stderr",
     "output_type": "stream",
     "text": [
      "2023-07-31 13:06:23,440 | INFO | [83648/MainProcess][110308/MainThread] | ifile.read_json[136] | <class 'ipylib.ifile.FileReader'> | FilePath--> C:\\pypjts\\KiwoomOpenAPI\\src\\kiwoomapi\\metadata\\OrderType.json\n"
     ]
    },
    {
     "name": "stdout",
     "output_type": "stream",
     "text": [
      "C:\\pypjts\\KiwoomOpenAPI\\src\\kiwoomapi\\metadata\\OrderType.json\n"
     ]
    },
    {
     "data": {
      "text/html": [
       "<div>\n",
       "<style scoped>\n",
       "    .dataframe tbody tr th:only-of-type {\n",
       "        vertical-align: middle;\n",
       "    }\n",
       "\n",
       "    .dataframe tbody tr th {\n",
       "        vertical-align: top;\n",
       "    }\n",
       "\n",
       "    .dataframe thead th {\n",
       "        text-align: right;\n",
       "    }\n",
       "</style>\n",
       "<table border=\"1\" class=\"dataframe\">\n",
       "  <thead>\n",
       "    <tr style=\"text-align: right;\">\n",
       "      <th></th>\n",
       "      <th>code</th>\n",
       "      <th>name</th>\n",
       "      <th>supported</th>\n",
       "    </tr>\n",
       "  </thead>\n",
       "  <tbody>\n",
       "    <tr>\n",
       "      <th>0</th>\n",
       "      <td>1</td>\n",
       "      <td>신규매수</td>\n",
       "      <td>1</td>\n",
       "    </tr>\n",
       "    <tr>\n",
       "      <th>1</th>\n",
       "      <td>2</td>\n",
       "      <td>신규매도</td>\n",
       "      <td>1</td>\n",
       "    </tr>\n",
       "    <tr>\n",
       "      <th>2</th>\n",
       "      <td>3</td>\n",
       "      <td>매수취소</td>\n",
       "      <td>1</td>\n",
       "    </tr>\n",
       "    <tr>\n",
       "      <th>3</th>\n",
       "      <td>4</td>\n",
       "      <td>매도취소</td>\n",
       "      <td>1</td>\n",
       "    </tr>\n",
       "    <tr>\n",
       "      <th>4</th>\n",
       "      <td>5</td>\n",
       "      <td>매수정정</td>\n",
       "      <td>0</td>\n",
       "    </tr>\n",
       "    <tr>\n",
       "      <th>5</th>\n",
       "      <td>6</td>\n",
       "      <td>매도정정</td>\n",
       "      <td>0</td>\n",
       "    </tr>\n",
       "  </tbody>\n",
       "</table>\n",
       "</div>"
      ],
      "text/plain": [
       "   code  name  supported\n",
       "0     1  신규매수          1\n",
       "1     2  신규매도          1\n",
       "2     3  매수취소          1\n",
       "3     4  매도취소          1\n",
       "4     5  매수정정          0\n",
       "5     6  매도정정          0"
      ]
     },
     "execution_count": 75,
     "metadata": {},
     "output_type": "execute_result"
    }
   ],
   "source": [
    "mdb.MemoryDB('OrderType').view()"
   ]
  },
  {
   "cell_type": "code",
   "execution_count": 77,
   "metadata": {},
   "outputs": [
    {
     "name": "stderr",
     "output_type": "stream",
     "text": [
      "2023-07-31 13:48:41,008 | INFO | [83648/MainProcess][110308/MainThread] | ifile.read_json[136] | <class 'ipylib.ifile.FileReader'> | FilePath--> C:\\pypjts\\KiwoomOpenAPI\\src\\kiwoomapi\\metadata\\CallPriceUnit.json\n"
     ]
    },
    {
     "name": "stdout",
     "output_type": "stream",
     "text": [
      "C:\\pypjts\\KiwoomOpenAPI\\src\\kiwoomapi\\metadata\\CallPriceUnit.json\n"
     ]
    },
    {
     "data": {
      "text/html": [
       "<div>\n",
       "<style scoped>\n",
       "    .dataframe tbody tr th:only-of-type {\n",
       "        vertical-align: middle;\n",
       "    }\n",
       "\n",
       "    .dataframe tbody tr th {\n",
       "        vertical-align: top;\n",
       "    }\n",
       "\n",
       "    .dataframe thead th {\n",
       "        text-align: right;\n",
       "    }\n",
       "</style>\n",
       "<table border=\"1\" class=\"dataframe\">\n",
       "  <thead>\n",
       "    <tr style=\"text-align: right;\">\n",
       "      <th></th>\n",
       "      <th>unit</th>\n",
       "      <th>left</th>\n",
       "      <th>right</th>\n",
       "    </tr>\n",
       "  </thead>\n",
       "  <tbody>\n",
       "    <tr>\n",
       "      <th>0</th>\n",
       "      <td>1</td>\n",
       "      <td>0</td>\n",
       "      <td>2000</td>\n",
       "    </tr>\n",
       "    <tr>\n",
       "      <th>1</th>\n",
       "      <td>5</td>\n",
       "      <td>2000</td>\n",
       "      <td>5000</td>\n",
       "    </tr>\n",
       "    <tr>\n",
       "      <th>2</th>\n",
       "      <td>10</td>\n",
       "      <td>5000</td>\n",
       "      <td>20000</td>\n",
       "    </tr>\n",
       "    <tr>\n",
       "      <th>3</th>\n",
       "      <td>50</td>\n",
       "      <td>20000</td>\n",
       "      <td>50000</td>\n",
       "    </tr>\n",
       "    <tr>\n",
       "      <th>4</th>\n",
       "      <td>100</td>\n",
       "      <td>50000</td>\n",
       "      <td>200000</td>\n",
       "    </tr>\n",
       "    <tr>\n",
       "      <th>5</th>\n",
       "      <td>500</td>\n",
       "      <td>200000</td>\n",
       "      <td>500000</td>\n",
       "    </tr>\n",
       "    <tr>\n",
       "      <th>6</th>\n",
       "      <td>1000</td>\n",
       "      <td>500000</td>\n",
       "      <td>10000000</td>\n",
       "    </tr>\n",
       "  </tbody>\n",
       "</table>\n",
       "</div>"
      ],
      "text/plain": [
       "   unit    left     right\n",
       "0     1       0      2000\n",
       "1     5    2000      5000\n",
       "2    10    5000     20000\n",
       "3    50   20000     50000\n",
       "4   100   50000    200000\n",
       "5   500  200000    500000\n",
       "6  1000  500000  10000000"
      ]
     },
     "execution_count": 77,
     "metadata": {},
     "output_type": "execute_result"
    }
   ],
   "source": [
    "mdb.MemoryDB('CallPriceUnit').view()"
   ]
  },
  {
   "cell_type": "code",
   "execution_count": null,
   "metadata": {},
   "outputs": [],
   "source": []
  },
  {
   "cell_type": "code",
   "execution_count": null,
   "metadata": {},
   "outputs": [],
   "source": []
  }
 ],
 "metadata": {
  "kernelspec": {
   "display_name": "venv",
   "language": "python",
   "name": "python3"
  },
  "language_info": {
   "codemirror_mode": {
    "name": "ipython",
    "version": 3
   },
   "file_extension": ".py",
   "mimetype": "text/x-python",
   "name": "python",
   "nbconvert_exporter": "python",
   "pygments_lexer": "ipython3",
   "version": "3.8.10"
  },
  "orig_nbformat": 4
 },
 "nbformat": 4,
 "nbformat_minor": 2
}
